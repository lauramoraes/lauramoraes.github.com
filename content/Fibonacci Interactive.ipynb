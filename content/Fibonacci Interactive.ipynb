{
 "cells": [
  {
   "cell_type": "markdown",
   "metadata": {
    "collapsed": false
   },
   "source": [
    "### Blogging slider\n",
    "Testing with interact"
   ]
  },
  {
   "cell_type": "code",
   "execution_count": 6,
   "metadata": {
    "collapsed": false
   },
   "outputs": [],
   "source": [
    "import ipywidgets as widgets\n",
    "from ipywidgets import interact"
   ]
  },
  {
   "cell_type": "code",
   "execution_count": 8,
   "metadata": {
    "collapsed": false
   },
   "outputs": [
    {
     "data": {
      "text/plain": [
       "'0 1 1 2 3 '"
      ]
     },
     "metadata": {},
     "output_type": "display_data"
    }
   ],
   "source": [
    "def show_fib(N):\n",
    "    sequence = \"\"\n",
    "    a, b = 0, 1\n",
    "    for i in range(N):\n",
    "        sequence += \"{0} \".format(a)\n",
    "        a, b = b, a + b\n",
    "    return sequence\n",
    "\n",
    "\n",
    "fib_slider = widgets.IntSlider(\n",
    "    value=7,\n",
    "    min=0,\n",
    "    max=10,\n",
    "    step=1,\n",
    "    description='Test:',\n",
    "    disabled=False,\n",
    "    continuous_update=False,\n",
    "    orientation='horizontal',\n",
    "    readout=True,\n",
    "    readout_format='i',\n",
    "    slider_color='white'\n",
    ")\n",
    "interact(show_fib, N=fib_slider)"
   ]
  },
  {
   "cell_type": "code",
   "execution_count": null,
   "metadata": {
    "collapsed": true
   },
   "outputs": [],
   "source": []
  }
 ],
 "metadata": {
  "kernelspec": {
   "display_name": "Python 3",
   "language": "python",
   "name": "python3"
  },
  "language_info": {
   "codemirror_mode": {
    "name": "ipython",
    "version": 3
   },
   "file_extension": ".py",
   "mimetype": "text/x-python",
   "name": "python",
   "nbconvert_exporter": "python",
   "pygments_lexer": "ipython3",
   "version": "3.5.3"
  },
  "widgets": {
   "application/vnd.jupyter.widget-state+json": {
    "state": {
     "0bb2c5fa92b24722a0865954443deb28": {
      "model_module": "jupyter-js-widgets",
      "model_module_version": "*",
      "model_name": "IntSliderModel",
      "state": {
       "continuous_update": false,
       "description": "Test:",
       "layout": "IPY_MODEL_eb95061868b94e24b1a28064e6811cf0",
       "max": 10,
       "readout_format": "i",
       "slider_color": "white",
       "value": 5
      }
     },
     "2131dcabb46c48deacfa3e08ce16a07d": {
      "model_module": "jupyter-js-widgets",
      "model_module_version": "*",
      "model_name": "LayoutModel",
      "state": {}
     },
     "2ef877739b2147cdba2d72dceec971ce": {
      "model_module": "jupyter-js-widgets",
      "model_module_version": "*",
      "model_name": "IntSliderModel",
      "state": {
       "continuous_update": false,
       "description": "Test:",
       "layout": "IPY_MODEL_55a8931ec826413c8abeb753c2b5ea6a",
       "max": 10,
       "readout_format": "i",
       "slider_color": "white",
       "value": 7
      }
     },
     "55a8931ec826413c8abeb753c2b5ea6a": {
      "model_module": "jupyter-js-widgets",
      "model_module_version": "*",
      "model_name": "LayoutModel",
      "state": {}
     },
     "7f2bf8c824e04c3b858f4b3b9df6a14f": {
      "model_module": "jupyter-js-widgets",
      "model_module_version": "*",
      "model_name": "LayoutModel",
      "state": {}
     },
     "80ceb0466f194904a4e616ac3d4c8a83": {
      "model_module": "jupyter-js-widgets",
      "model_module_version": "*",
      "model_name": "VBoxModel",
      "state": {
       "_dom_classes": [
        "widget-interact"
       ],
       "children": [
        "IPY_MODEL_0bb2c5fa92b24722a0865954443deb28",
        "IPY_MODEL_824a62b1ac304319b50add8da5bd066c"
       ],
       "layout": "IPY_MODEL_7f2bf8c824e04c3b858f4b3b9df6a14f"
      }
     },
     "824a62b1ac304319b50add8da5bd066c": {
      "model_module": "jupyter-js-widgets",
      "model_module_version": "*",
      "model_name": "OutputModel",
      "state": {
       "_dom_classes": [],
       "_model_module": "jupyter-js-widgets",
       "_model_module_version": "*",
       "_view_module": "jupyter-js-widgets",
       "_view_module_version": "*",
       "layout": "IPY_MODEL_94a44a4933744e24b457d40422b66a92",
       "msg_throttle": 1
      }
     },
     "8571136bde5f45ac999a8d0dc6b91ffd": {
      "model_module": "jupyter-js-widgets",
      "model_module_version": "*",
      "model_name": "LayoutModel",
      "state": {}
     },
     "9189535e57f24023a8d68f5c8d7fb7b9": {
      "model_module": "jupyter-js-widgets",
      "model_module_version": "*",
      "model_name": "LayoutModel",
      "state": {}
     },
     "94a44a4933744e24b457d40422b66a92": {
      "model_module": "jupyter-js-widgets",
      "model_module_version": "*",
      "model_name": "LayoutModel",
      "state": {}
     },
     "9becd63343834ae8af4adf8ba23857de": {
      "model_module": "jupyter-js-widgets",
      "model_module_version": "*",
      "model_name": "IntSliderModel",
      "state": {
       "continuous_update": false,
       "description": "Test:",
       "layout": "IPY_MODEL_8571136bde5f45ac999a8d0dc6b91ffd",
       "max": 10,
       "readout_format": "i",
       "slider_color": "white",
       "value": 7
      }
     },
     "c99a83024a4544e8a148815da405906d": {
      "model_module": "jupyter-js-widgets",
      "model_module_version": "*",
      "model_name": "IntSliderModel",
      "state": {
       "continuous_update": false,
       "description": "Test:",
       "layout": "IPY_MODEL_2131dcabb46c48deacfa3e08ce16a07d",
       "max": 10,
       "readout_format": "i",
       "slider_color": "white",
       "value": 7
      }
     },
     "db3b17312dde4062adc93a8cf04ec52c": {
      "model_module": "jupyter-js-widgets",
      "model_module_version": "*",
      "model_name": "IntSliderModel",
      "state": {
       "continuous_update": false,
       "description": "Test:",
       "layout": "IPY_MODEL_9189535e57f24023a8d68f5c8d7fb7b9",
       "max": 10,
       "readout_format": "i",
       "slider_color": "white",
       "value": 7
      }
     },
     "eb95061868b94e24b1a28064e6811cf0": {
      "model_module": "jupyter-js-widgets",
      "model_module_version": "*",
      "model_name": "LayoutModel",
      "state": {}
     }
    },
    "version_major": 1,
    "version_minor": 0
   }
  }
 },
 "nbformat": 4,
 "nbformat_minor": 0
}
